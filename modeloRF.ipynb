{
 "cells": [
  {
   "cell_type": "code",
   "execution_count": 2,
   "metadata": {},
   "outputs": [
    {
     "name": "stdout",
     "output_type": "stream",
     "text": [
      "Accuracy: 0.7597402597402597\n",
      "Classification Report:\n",
      "              precision    recall  f1-score   support\n",
      "\n",
      "           0       0.83      0.79      0.81        99\n",
      "           1       0.65      0.71      0.68        55\n",
      "\n",
      "    accuracy                           0.76       154\n",
      "   macro avg       0.74      0.75      0.74       154\n",
      "weighted avg       0.77      0.76      0.76       154\n",
      "\n",
      "Confusion Matrix:\n",
      "[[78 21]\n",
      " [16 39]]\n"
     ]
    }
   ],
   "source": [
    "import pandas as pd\n",
    "import numpy as np\n",
    "import matplotlib.pyplot as plt\n",
    "import seaborn as sns\n",
    "%matplotlib inline\n",
    "diabetes = pd.read_csv('diabetes_dataset.csv')\n",
    "\n",
    "from sklearn.model_selection import train_test_split\n",
    "from sklearn.ensemble import RandomForestClassifier\n",
    "from sklearn.metrics import accuracy_score, classification_report, confusion_matrix\n",
    "\n",
    "\n",
    "X = diabetes.drop(columns=['Outcome','Pregnancies','SkinThickness' ])\n",
    "y = diabetes['Outcome']\n",
    "\n",
    "\n",
    "X_train, X_test, y_train, y_test = train_test_split(X, y, test_size=0.2, random_state=42)\n",
    "\n",
    "model = RandomForestClassifier(n_estimators=100, random_state=42)\n",
    "\n",
    "model.fit(X_train, y_train)\n",
    "\n",
    "y_pred = model.predict(X_test)\n",
    "\n",
    "accuracy = accuracy_score(y_test, y_pred)\n",
    "print(\"Accuracy:\", accuracy)\n",
    "\n",
    "print(\"Classification Report:\")\n",
    "print(classification_report(y_test, y_pred))\n",
    "\n",
    "print(\"Confusion Matrix:\")\n",
    "print(confusion_matrix(y_test, y_pred))"
   ]
  },
  {
   "cell_type": "code",
   "execution_count": 3,
   "metadata": {},
   "outputs": [
    {
     "name": "stdout",
     "output_type": "stream",
     "text": [
      "Accuracy: 0.7597402597402597\n",
      "Classification Report:\n",
      "              precision    recall  f1-score   support\n",
      "\n",
      "           0       0.83      0.79      0.81        99\n",
      "           1       0.65      0.71      0.68        55\n",
      "\n",
      "    accuracy                           0.76       154\n",
      "   macro avg       0.74      0.75      0.74       154\n",
      "weighted avg       0.77      0.76      0.76       154\n",
      "\n",
      "Confusion Matrix:\n",
      "[[78 21]\n",
      " [16 39]]\n"
     ]
    }
   ],
   "source": [
    "X = diabetes.drop(columns=['Outcome','Pregnancies','SkinThickness' ])\n",
    "y = diabetes['Outcome']\n",
    "\n",
    "\n",
    "X_train, X_test, y_train, y_test = train_test_split(X, y, test_size=0.2, random_state=42)\n",
    "\n",
    "model = RandomForestClassifier(n_estimators=100, random_state=42)\n",
    "\n",
    "model.fit(X_train, y_train)\n",
    "\n",
    "y_pred = model.predict(X_test)\n",
    "\n",
    "accuracy = accuracy_score(y_test, y_pred)\n",
    "print(\"Accuracy:\", accuracy)\n",
    "\n",
    "print(\"Classification Report:\")\n",
    "print(classification_report(y_test, y_pred))\n",
    "\n",
    "print(\"Confusion Matrix:\")\n",
    "print(confusion_matrix(y_test, y_pred))"
   ]
  },
  {
   "cell_type": "code",
   "execution_count": 7,
   "metadata": {},
   "outputs": [
    {
     "name": "stdout",
     "output_type": "stream",
     "text": [
      "Test_Set\n",
      "              precision    recall  f1-score   support\n",
      "\n",
      "           0       0.80      0.77      0.78        99\n",
      "           1       0.61      0.65      0.63        55\n",
      "\n",
      "    accuracy                           0.73       154\n",
      "   macro avg       0.71      0.71      0.71       154\n",
      "weighted avg       0.73      0.73      0.73       154\n",
      "\n",
      "Train_Set\n",
      "              precision    recall  f1-score   support\n",
      "\n",
      "           0       0.97      0.98      0.98       401\n",
      "           1       0.97      0.95      0.96       213\n",
      "\n",
      "    accuracy                           0.97       614\n",
      "   macro avg       0.97      0.97      0.97       614\n",
      "weighted avg       0.97      0.97      0.97       614\n",
      "\n"
     ]
    },
    {
     "data": {
      "text/plain": [
       "<Figure size 1200x800 with 0 Axes>"
      ]
     },
     "metadata": {},
     "output_type": "display_data"
    }
   ],
   "source": [
    "def eval(model, X_train, X_test):\n",
    "    y_pred = model.predict(X_test)\n",
    "    y_pred_train = model.predict(X_train)\n",
    "    print(\"Test_Set\")\n",
    "    print(classification_report(y_test,y_pred))\n",
    "    print(\"Train_Set\")\n",
    "    print(classification_report(y_train,y_pred_train))   \n",
    "    plt.figure(figsize=(12,8))\n",
    "\n",
    "\n",
    "from sklearn.model_selection import GridSearchCV\n",
    "from sklearn.ensemble import RandomForestClassifier\n",
    "\n",
    "#max_depth: Profundidad máxima del árbol.\n",
    "#max_features: Número máximo de características a considerar en cada división de nodo.\n",
    "#n_estimators: Número de estimadores en el Random Forest.\n",
    "rf_params = {'n_estimators': [10, 15, 20],\n",
    "    'max_depth': [None, 10, 15],\n",
    "    'min_samples_split': [2, 5, 10],\n",
    "    'min_samples_leaf': [1, 2, 4]}\n",
    "rf = RandomForestClassifier()\n",
    "rf_model_cv = GridSearchCV(rf,rf_params,cv=5,n_jobs = -1)\n",
    "rf_model_cv.fit(X_train,y_train)\n",
    "\n",
    "rf_model_cv.best_params_\n",
    "\n",
    "rf_tuned = RandomForestClassifier(max_depth=10,\n",
    "                                 max_features=6,\n",
    "                                 min_samples_split=3,\n",
    "                                 n_estimators=10)\n",
    "rf_tuned.fit(X_train,y_train)\n",
    "\n",
    "  \n",
    "\n",
    "eval(rf_tuned,X_train,X_test)"
   ]
  },
  {
   "cell_type": "code",
   "execution_count": 9,
   "metadata": {},
   "outputs": [
    {
     "data": {
      "text/plain": [
       "['diabetesCLasificacion.joblib']"
      ]
     },
     "execution_count": 9,
     "metadata": {},
     "output_type": "execute_result"
    }
   ],
   "source": [
    "from joblib import dump, load\n",
    "dump(rf_tuned,'diabetesCLasificacion.joblib')"
   ]
  },
  {
   "cell_type": "code",
   "execution_count": 8,
   "metadata": {},
   "outputs": [
    {
     "name": "stdout",
     "output_type": "stream",
     "text": [
      "El modelo predice que no tiene diabetes.\n"
     ]
    }
   ],
   "source": [
    "# Crear una nueva instancia de datos manualmente\n",
    "##nueva_instancia = [[148, 72, 0, 33.6, 0.627, 50]]\n",
    "nueva_instancia = pd.DataFrame([[148, 72, 0, 33.6, 0.627, 50]],\n",
    "                               columns=['Glucose', 'BloodPressure', 'Insulin', 'BMI', 'DiabetesPedigreeFunction', 'Age'])\n",
    "nueva_instancia1 = pd.DataFrame([[85, 66, 0, 26.6, 0.351, 31]],\n",
    "                               columns=['Glucose', 'BloodPressure', 'Insulin', 'BMI', 'DiabetesPedigreeFunction', 'Age'])\n",
    "\n",
    "# Realizar la predicción utilizando el modelo entrenado\n",
    "prediccion = rf_tuned.predict(nueva_instancia1)\n",
    "\n",
    "# Imprimir la predicción\n",
    "if prediccion[0] == 1:\n",
    "    print(\"El modelo predice que tiene diabetes.\")\n",
    "else:\n",
    "    print(\"El modelo predice que no tiene diabetes.\")\n"
   ]
  }
 ],
 "metadata": {
  "kernelspec": {
   "display_name": "Python 3",
   "language": "python",
   "name": "python3"
  },
  "language_info": {
   "codemirror_mode": {
    "name": "ipython",
    "version": 3
   },
   "file_extension": ".py",
   "mimetype": "text/x-python",
   "name": "python",
   "nbconvert_exporter": "python",
   "pygments_lexer": "ipython3",
   "version": "3.11.5"
  },
  "orig_nbformat": 4
 },
 "nbformat": 4,
 "nbformat_minor": 2
}
